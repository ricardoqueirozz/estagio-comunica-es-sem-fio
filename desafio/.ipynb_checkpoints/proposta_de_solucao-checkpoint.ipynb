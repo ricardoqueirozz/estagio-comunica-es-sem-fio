{
 "cells": [
  {
   "cell_type": "markdown",
   "id": "eaf2fe9d-fa84-4163-9ece-a5926b900cd8",
   "metadata": {},
   "source": [
    "# **Proposta de Solução do Desafio do Tutorial**"
   ]
  },
  {
   "cell_type": "markdown",
   "id": "50887646-770a-4121-a8e0-b49e03576176",
   "metadata": {},
   "source": [
    "## **Recapitulação do Desafio**"
   ]
  },
  {
   "cell_type": "markdown",
   "id": "edd9aa2f-f508-45be-bd1d-db97ac6822e6",
   "metadata": {},
   "source": [
    "Imagine que a vegetação destacada na figura abaixo começou a obstruir completamente o enlace entre a Torre de Concreto de Tirol e a Torre de Concreto de Ponta Negra. Você é o engenheiro responsável pelo projeto e precisa pensar em uma solução que seja economicamente viável para o problema. Com os conhecimentos adquiridos ao longo do tutorial, implemente a solução pensada no LINKPlanner.\n",
    "\n",
    "<img src=\"../figuras/img41.png\" alt=\"img41\" width=\"1200\">"
   ]
  },
  {
   "cell_type": "markdown",
   "id": "f688c0bf-10d5-44f3-9719-20be5191d61e",
   "metadata": {},
   "source": [
    "## **Seleção do Local da Repetidora**"
   ]
  },
  {
   "cell_type": "markdown",
   "id": "03f3d62c-7384-4591-ac52-5ab8bbb3e728",
   "metadata": {},
   "source": [
    "A ideia da implantação dessa estação repetidora é elevar a altura do enlace, para que a vegetação não venha mais a comprometer o desempenho do enlace."
   ]
  },
  {
   "cell_type": "markdown",
   "id": "c57205b0-fbf7-47f7-b0d1-ee91b06b91fb",
   "metadata": {},
   "source": [
    "Buscou-se atender os seguintes critérios:\n",
    "- Reutilização de infraestrutura já disponível;\n",
    "- Menor quantidade de rádios possível;\n",
    "- Manutenção das características originais do enlace.\n"
   ]
  },
  {
   "cell_type": "markdown",
   "id": "b43e4835-9179-44bd-a773-902c014b389c",
   "metadata": {},
   "source": [
    "Uma vez que o enlace está sendo comprometido pela vegetação da área de proteção ambiental do Parque das Dunas, não seria possível instalar uma nova torre para servir de infraestrutura para a estação repetidora. Todavia, já existem algumas torres de comunicações instaladas na área do morro do Tirol, que está estrategicamente posicionada entre a Torre de Concreto do Tirol e a Torre de Concreto de Ponta Negra. Desta forma, escolheu-se a torre mais alta do morro como infraestrutura física da estação repetidora."
   ]
  },
  {
   "cell_type": "markdown",
   "id": "14775182-4ff9-4bee-b87a-5dca9dc9dcbd",
   "metadata": {},
   "source": [
    "## **Implementação da Estação no LINKPlanner**"
   ]
  },
  {
   "cell_type": "markdown",
   "id": "841b93a6-f2e7-4c84-92be-0ff107f22644",
   "metadata": {},
   "source": [
    "Adicionou-se um ponto no mapa no Google Earth Pro com a seguinte configuração geográfica:\n",
    "\n",
    "- Latitude: 5°47'44.71\"S\n",
    "- Longitude: 35°11'46.74\"O\n",
    "\n",
    "Esse ponto se situa na primeira torre do morro do Tirol, onde hoje já existe uma estação repetidora de rede celular. Salvou-se o local individualmente, clicando sobre seu nome no menu esquerdo do Google Earth Pro, como demonstrado na figura abaixo.\n",
    "\n",
    "<img src=\"../figuras/img42.png\" alt=\"img42\" width=\"400\">"
   ]
  },
  {
   "cell_type": "markdown",
   "id": "ee40e51e-ecdd-427b-aabe-e0bd3380e554",
   "metadata": {},
   "source": [
    "Após isso, importou-se arquivo .mkz do lugar para o projeto desenvolvido no [Tutorial do LINKPlanner](https://github.com/ricardoqueirozz/estagio-comunicacoes-sem-fio/blob/main/tutorial/tutorial_LINKPlanner.ipynb). Clicando em *Network Sites*, configurou-se a altura da torre do Morro do Tirol para 50 m, conforme mostrado na figura abaixo.\n",
    "\n",
    "<img src=\"../figuras/img43.png\" alt=\"img43\" width=\"1200\">"
   ]
  },
  {
   "cell_type": "markdown",
   "id": "d6d526ad-41b9-4bbf-9911-4a3aa6d0fcdf",
   "metadata": {},
   "source": [
    "Com o lugar devidamente configurado, crio-se os seguintes enlaces: \n",
    "\n",
    "- Morro do Tirol ↔ Torre de Concreto do Tirol;\n",
    "- Morro do Tirol ↔ Torre de Concreto de Ponta Negra.\n",
    "\n",
    "Em cada enlace, configurou-se as antenas para o modelo RDH4508C e posicionou-se as antenas a 48 m de altura na torre do Morro do Tirol. "
   ]
  },
  {
   "cell_type": "markdown",
   "id": "9606d53d-fc69-4160-a812-8cc0a62d4902",
   "metadata": {},
   "source": [
    "## **Aferição do Desempenho do Enlace Implementado**"
   ]
  },
  {
   "cell_type": "markdown",
   "id": "b34fe7e9-060a-4078-821d-609498fce7a0",
   "metadata": {},
   "source": [
    "As figura abaixo demonstram que não há obstrução da zona de fresnel do enlace em nenhum de seus trechos, garantindo os dois primeiro critérios estabelecidos para a implantação da repetidora."
   ]
  },
  {
   "cell_type": "markdown",
   "id": "15086336-3cdc-4ec6-8947-e3dfff573cb7",
   "metadata": {},
   "source": [
    "### Enlace Morro do Tirol ↔ Torre de Concreto de Ponta Negra\n",
    "\n",
    "<img src=\"../figuras/img44.png\" alt=\"img44\" width=\"1200\">\n",
    "\n",
    "### Enlace Morro do Tirol ↔ Torre de Concreto do Tirol\n",
    "\n",
    "<img src=\"../figuras/img45.png\" alt=\"img45\" width=\"1200\">"
   ]
  },
  {
   "cell_type": "markdown",
   "id": "9014494b-8f41-42da-9877-8f475747c042",
   "metadata": {},
   "source": [
    "Perceba, nas figuras abaixo, que ambos os resultados são superiores aos obtidos com o enlace entre a Torre de Concreto de Ponta Negra e a Torre de Concreto do Tirol, projetado anteriormente, atendendo ao terceiro e último critério estabelecido para a estação repetidora."
   ]
  },
  {
   "cell_type": "markdown",
   "id": "774b5c6c-98b8-4833-93ed-2e1872dccb39",
   "metadata": {},
   "source": [
    "### Métricas do Enlace Morro do Tirol ↔ Torre de Concreto de Ponta Negra\n",
    "\n",
    "<img src=\"../figuras/img46.png\" alt=\"img46\" width=\"1200\">\n",
    "\n",
    "### Métricas do Enlace Morro do Tirol ↔ Torre de Concreto do Tirol\n",
    "\n",
    "<img src=\"../figuras/img47.png\" alt=\"img47\" width=\"1200\">"
   ]
  },
  {
   "cell_type": "markdown",
   "id": "c5b9cda8-c874-40c8-9c8d-4986cf50fcea",
   "metadata": {},
   "source": [
    "Uma vez que a solução foi implementada com sucesso, o enlace entre a Torre de Concreto de Ponta Negra e a Torre de Concreto do Tirol pode ser removida do projeto anterior. A figura abaixo exibe os enlaces no Google Earth Pro.\n",
    "\n",
    "<img src=\"../figuras/img48.png\" alt=\"img48\" width=\"1200\">"
   ]
  }
 ],
 "metadata": {
  "kernelspec": {
   "display_name": "Python 3 (ipykernel)",
   "language": "python",
   "name": "python3"
  },
  "language_info": {
   "codemirror_mode": {
    "name": "ipython",
    "version": 3
   },
   "file_extension": ".py",
   "mimetype": "text/x-python",
   "name": "python",
   "nbconvert_exporter": "python",
   "pygments_lexer": "ipython3",
   "version": "3.10.12"
  }
 },
 "nbformat": 4,
 "nbformat_minor": 5
}
