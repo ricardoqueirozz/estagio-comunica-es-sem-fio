{
 "cells": [
  {
   "cell_type": "markdown",
   "id": "eaf2fe9d-fa84-4163-9ece-a5926b900cd8",
   "metadata": {},
   "source": [
    "# **Proposta de Solução do Desafio do Tutorial**"
   ]
  },
  {
   "cell_type": "code",
   "execution_count": null,
   "id": "d7554873-3cec-4dee-b0d5-740614f1650a",
   "metadata": {},
   "outputs": [],
   "source": []
  }
 ],
 "metadata": {
  "kernelspec": {
   "display_name": "Python 3 (ipykernel)",
   "language": "python",
   "name": "python3"
  },
  "language_info": {
   "codemirror_mode": {
    "name": "ipython",
    "version": 3
   },
   "file_extension": ".py",
   "mimetype": "text/x-python",
   "name": "python",
   "nbconvert_exporter": "python",
   "pygments_lexer": "ipython3",
   "version": "3.10.12"
  }
 },
 "nbformat": 4,
 "nbformat_minor": 5
}
