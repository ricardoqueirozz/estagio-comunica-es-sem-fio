{
 "cells": [
  {
   "cell_type": "markdown",
   "id": "d21ace82-0f5e-4469-82e2-7f453844af02",
   "metadata": {},
   "source": [
    "## **Instalação dos Softwares Necessários**"
   ]
  },
  {
   "cell_type": "markdown",
   "id": "85f81fe7-6720-46e3-8d7c-9e411fc27839",
   "metadata": {},
   "source": [
    "### LINKPlanner"
   ]
  },
  {
   "cell_type": "markdown",
   "id": "5de63c16-f4d5-4ec5-992c-253c55cfb61f",
   "metadata": {},
   "source": [
    "No [site](https://www.cambiumnetworks.com/products/software/linkplanner/) da Cambium Networks, você irá clicar no botão destacado na imagem abaixo. \n",
    "\n",
    "\n",
    "<img src=\"../figuras/img1.png\" alt=\"img1\" width=\"500\">"
   ]
  },
  {
   "cell_type": "markdown",
   "id": "8d7e8677-c749-41f5-81d0-bfe9950bf972",
   "metadata": {},
   "source": [
    "Será solicitado que uma conta seja criada, para isso, insira um e-mail no local destacado na imagem abaixo. Sugiro o uso de e-mail acadêmico.\n",
    "\n",
    "<img src=\"../figuras/img2.png\" alt=\"img2\" width=\"500\">"
   ]
  },
  {
   "cell_type": "markdown",
   "id": "6307d5c8-0c0e-48f8-9501-7e4495711c61",
   "metadata": {},
   "source": [
    "Essa será a tela que você verá quando inserir o e-mail.\n",
    "\n",
    "<img src=\"../figuras/img3.png\" alt=\"img3\" width=\"500\">"
   ]
  },
  {
   "cell_type": "markdown",
   "id": "83bf66bb-dc01-4cb7-8cd1-9b0c028ece76",
   "metadata": {},
   "source": [
    "Acesse o e-mail que você utilizou para criar a conta e clique no link presente no e-mail.\n",
    "\n",
    "<img src=\"../figuras/img4.png\" alt=\"img4\" width=\"500\">"
   ]
  },
  {
   "cell_type": "markdown",
   "id": "b32ba290-1ed8-4204-a201-2283ef13a296",
   "metadata": {},
   "source": [
    "A tela da figura abaixo será aberta, nela é necessária inserir as informações pessoais, para que sua conta seja criada.\n",
    "\n",
    "<img src=\"../figuras/img5.png\" alt=\"img5\" width=\"500\">"
   ]
  },
  {
   "cell_type": "markdown",
   "id": "fae2b6b9-f211-4448-a9a3-3d79e59c5f47",
   "metadata": {},
   "source": [
    "Após clicar no botão Register, você será direcionado automaticamente para a página de download do software, que também pode ser acessada por meio desse [link](https://support.cambiumnetworks.com/files/linkplanner/). Faça download da versão mais recente para windows, clicando no botão de download destacado na figura abaixo. Neste tutorial será usada a versão 5.7.2.\n",
    "\n",
    "<img src=\"../figuras/img6.png\" alt=\"img6\" width=\"500\">"
   ]
  },
  {
   "cell_type": "markdown",
   "id": "97c1f788-948c-433f-a9cd-32b96a29fe06",
   "metadata": {},
   "source": [
    "Faça a instalação do arquivo executável baixado. É possível que o windows reconheça como arquivo malicioso, mas clicando em “mais informações”, na tela mostrada na figura abaixo, irá abrir uma a opção “instalar assim mesmo”.\n",
    "\n",
    "<img src=\"../figuras/img7.png\" alt=\"img7\" width=\"300\">\n",
    "<img src=\"../figuras/img8.png\" alt=\"img8\" width=\"300\">"
   ]
  },
  {
   "cell_type": "markdown",
   "id": "557c8289-30c8-4529-8703-791e7447899f",
   "metadata": {},
   "source": [
    "Após a instalação, com o LINKPlanner aberto, clique na aba *Tools* e, em seguida, clique na opção *options*, conforme mostrado na figura abaixo.\n",
    "\n",
    "<img src=\"../figuras/img9.png\" alt=\"img9\" width=\"500\">"
   ]
  },
  {
   "cell_type": "markdown",
   "id": "75e80bf3-2b9c-4455-a460-91d9ec60f870",
   "metadata": {},
   "source": [
    "Será aberta a janela da figura abaixo, onde devem ser inseridas suas informações pessoais, de forma obrigatória.\n",
    "\n",
    "<img src=\"../figuras/img10.png\" alt=\"img10\" width=\"500\">"
   ]
  },
  {
   "cell_type": "markdown",
   "id": "f52bb8ae-dc05-4f01-94e5-072480d563bf",
   "metadata": {},
   "source": [
    "Ainda nessa tela, abra a aba *Path Profile* e clique em *\"Register for profiles*\".\n",
    "\n",
    "<img src=\"../figuras/img11.png\" alt=\"img11\" width=\"500\">"
   ]
  },
  {
   "cell_type": "markdown",
   "id": "baee3633-561a-4d1e-a73c-959fef6dc19f",
   "metadata": {},
   "source": [
    "A tela da imagem abaixo irá se abrir no seu navegador, nela você deve inserir um e-mail no local demarcado e clicar em *Generate New Token*.\n",
    "\n",
    "<img src=\"../figuras/img12.png\" alt=\"img12\" width=\"500\">"
   ]
  },
  {
   "cell_type": "markdown",
   "id": "ea9a9cb0-89c6-43ad-b424-b6e351c52293",
   "metadata": {},
   "source": [
    "Um *token* de acesso será enviado para o e-mail que você inseriu, você receberá um e-mail semelhante ao da imagem abaixo.\n",
    "\n",
    "<img src=\"../figuras/img13.png\" alt=\"img13\" width=\"500\">"
   ]
  },
  {
   "cell_type": "markdown",
   "id": "39037ad4-e322-4808-a1fe-2110f39e41ea",
   "metadata": {},
   "source": [
    "Insira o *token* recebido no local demarcado na imagem abaixo e aperte no botão *Test profile service*. Esse token de acesso é o que faz com que os terrenos sejam carregados no LINKPlanner, sem essa etapa não é possível realizar os projetos de enlace, pois o terreno entre os pontos não aparecerão no momento em que os enlaces forem estabelecidos.\n",
    "\n",
    "<img src=\"../figuras/img14.png\" alt=\"img14\" width=\"500\">"
   ]
  },
  {
   "cell_type": "markdown",
   "id": "68131af0-fc2f-41a0-9f87-eeebf1328f05",
   "metadata": {},
   "source": [
    "Após essa etapa o LINKPlanner está pronto para uso."
   ]
  },
  {
   "cell_type": "markdown",
   "id": "6ed0d7c1-a031-4960-9675-9fa61994b57a",
   "metadata": {},
   "source": [
    "### Google Earth Pro"
   ]
  },
  {
   "cell_type": "markdown",
   "id": "def2228f-efb6-4f78-a207-a1596364ed9e",
   "metadata": {},
   "source": [
    "Para elaborar projetos com o LINKPlanner, é necessário instalar o Google Earth Pro, que pode ser obtido a partir desse [link](https://www.google.com/intl/pt-BR/earth/about/versions/). Nele, desça a página até o botão de download da versão para desktop aparecer, conforme mostrado na imagem abaixo.\n",
    "\n",
    "<img src=\"../figuras/img15.png\" alt=\"img15\" width=\"1000\">"
   ]
  },
  {
   "cell_type": "markdown",
   "id": "77aa93c2-553a-44a6-8d6f-0963d9d9b848",
   "metadata": {},
   "source": [
    "Execute o instalador baixado e prossiga até o final do processo de instalação do Google Earth Pro."
   ]
  },
  {
   "cell_type": "markdown",
   "id": "8115256c-1619-43c8-bfbd-a40308a84cf6",
   "metadata": {},
   "source": [
    "## **Projeto de Enlaces**"
   ]
  },
  {
   "cell_type": "markdown",
   "id": "6efbf4bf-2533-499c-90b2-911f71ce1927",
   "metadata": {},
   "source": [
    "Para fins de exemplificação, esse tutorial tem como intuito demonstrar a viabilidade de enlaces ponto a ponto para troca de dados financeiros entre as gestoras dos shoppings de natal. Para isso, serão utilizadas como infraestrutura auxiliar as torres de concreto de telefonia celular da cidade. Desta forma, tem-se a seguinte configuração:\n",
    "\n",
    "- Torre de Concreto - Ponta Negra ↔ Natal Shopping;\n",
    "- Torre de Concreto - Tirol ↔ Midway;\n",
    "- Torre de Concreto - Redinha ↔ Partage Norte Shopping;\n",
    "- T. C. Ponta Negra ↔ T. C. Tirol ↔ T. C. Redinha.\n",
    "\n",
    "O primeiro passo é inserir esses pontos no Google Earth. Inicie esse procedimento criando uma pasta chamada “Tutorial LINKPlanner” dentro de “Meus Lugares”. Para isso, clique com o botão direito, selecione “Adicionar” e, em seguida, “Pasta”.\n",
    "\n",
    "<img src=\"../figuras/img16.png\" alt=\"img16\" width=\"500\">"
   ]
  },
  {
   "cell_type": "markdown",
   "id": "5e8aa042-6893-42c7-a24f-3b020c8c2f00",
   "metadata": {},
   "source": [
    "A janela da imagem abaixo será aberta, nela você pode inserir o nome da pasta.\n",
    "\n",
    "<img src=\"../figuras/img17.png\" alt=\"img17\" width=\"500\">"
   ]
  },
  {
   "cell_type": "markdown",
   "id": "d02393ba-3511-4683-b0c3-8f9d4982f15d",
   "metadata": {},
   "source": [
    "Para adicionar pontos, clique no ícone destacado na imagem abaixo.\n",
    "\n",
    "<img src=\"../figuras/img18.png\" alt=\"img18\" width=\"500\">"
   ]
  },
  {
   "cell_type": "markdown",
   "id": "20661c87-b047-460b-919e-05694541fe49",
   "metadata": {},
   "source": [
    "A janela da figura abaixo irá se abrir, onde pode ser inserido uma descrição do ponto adicionado. É necessário arrastar o ícone de marcação manualmente para cima do local no mapa ou substituir as informações de Latitude e Longitude do ponto nos locais definidos. A segunda opção irá posicionar automaticamente o ícone sobre o local especificado quando a tecla “ok” for apertada.\n",
    "\n",
    "<img src=\"../figuras/img19.png\" alt=\"img19\" width=\"500\">"
   ]
  },
  {
   "cell_type": "markdown",
   "id": "d3903a99-74f1-46ca-942f-0df7750475d4",
   "metadata": {},
   "source": [
    "A tabela abaixo apresenta os valores de latitude e longitude dos pontos utilizados para o tutorial.\n",
    "\n",
    "| **Local**                       | **Latitude** | **Longitude** |\n",
    "|---------------------------------|:------------:|:-------------:|\n",
    "| Torre de Concreto - Redinha     | 5°45'16.98\"S | 35°13'55.54\"O |\n",
    "| Torre de Concreto - Tirol       | 5°47'18.62\"S | 35°12'9.36\"O  |\n",
    "| Torre de Concreto - Ponta Negra | 5°52'19.33\"S | 35°10'51.66\"O |\n",
    "| Partage Norte Shopping          | 5°45'30.00\"S | 35°14'49.07\"O |\n",
    "| Midway Mall                     | 5°48'40.68\"S | 35°12'22.66\"O |\n",
    "| Natal Shopping                  | 5°50'32.06\"S | 35°12'39.40\"O |"
   ]
  },
  {
   "cell_type": "markdown",
   "id": "1d91e6ef-4820-45b8-b607-fb9a0e2431a4",
   "metadata": {},
   "source": [
    "Ao inserir todos os pontos, confira se eles estão dentro da pasta criada anteriormente no tutorial. Caso não tenham sido, basta os selecionar e arrastar para dentro do ícone da pasta, conforme demonstra a figura abaixo.\n",
    "\n",
    "<img src=\"../figuras/img20.png\" alt=\"img20\" width=\"500\">"
   ]
  }
 ],
 "metadata": {
  "kernelspec": {
   "display_name": "Python 3 (ipykernel)",
   "language": "python",
   "name": "python3"
  },
  "language_info": {
   "codemirror_mode": {
    "name": "ipython",
    "version": 3
   },
   "file_extension": ".py",
   "mimetype": "text/x-python",
   "name": "python",
   "nbconvert_exporter": "python",
   "pygments_lexer": "ipython3",
   "version": "3.10.12"
  }
 },
 "nbformat": 4,
 "nbformat_minor": 5
}
