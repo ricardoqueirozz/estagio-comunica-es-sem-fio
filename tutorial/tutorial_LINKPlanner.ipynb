{
 "cells": [
  {
   "cell_type": "markdown",
   "id": "d21ace82-0f5e-4469-82e2-7f453844af02",
   "metadata": {},
   "source": [
    "## Instalação dos Softwares Necessários"
   ]
  },
  {
   "cell_type": "markdown",
   "id": "85f81fe7-6720-46e3-8d7c-9e411fc27839",
   "metadata": {},
   "source": [
    "No [site](https://www.cambiumnetworks.com/products/software/linkplanner/) da Cambium Networks, você irá clicar no botão destacado na imagem abaixo. \n",
    "\n",
    "\n",
    "<img src=\"figuras/img1.png\" alt=\"img1\" width=\"500\">\n",
    "![img1](./figuras/img1.png)"
   ]
  },
  {
   "cell_type": "markdown",
   "id": "8d7e8677-c749-41f5-81d0-bfe9950bf972",
   "metadata": {},
   "source": [
    "Será solicitado que uma conta seja criada, para isso, insira um e-mail no local destacado na imagem abaixo. Sugiro o uso de e-mail acadêmico.\n",
    "\n",
    "<img src=\"./figuras/img2.png\" alt=\"img2\" width=\"500\">\n",
    "![img2](./figuras/img2.png)"
   ]
  },
  {
   "cell_type": "markdown",
   "id": "6307d5c8-0c0e-48f8-9501-7e4495711c61",
   "metadata": {},
   "source": [
    "Essa será a tela que você verá quando inserir o e-mail.\n",
    "\n",
    "![img3](./figuras/img3.png)"
   ]
  },
  {
   "cell_type": "markdown",
   "id": "83bf66bb-dc01-4cb7-8cd1-9b0c028ece76",
   "metadata": {},
   "source": [
    "Acesse o e-mail que você utilizou para criar a conta e clique no link presente no e-mail.\n",
    "\n",
    "![img4](./figuras/img4.png)"
   ]
  },
  {
   "cell_type": "markdown",
   "id": "b32ba290-1ed8-4204-a201-2283ef13a296",
   "metadata": {},
   "source": [
    "A tela da figura abaixo será aberta, nela é necessária inserir as informações pessoais, para que sua conta seja criada.\n",
    "\n",
    "![img5](./figuras/img5.png)"
   ]
  },
  {
   "cell_type": "markdown",
   "id": "fae2b6b9-f211-4448-a9a3-3d79e59c5f47",
   "metadata": {},
   "source": [
    "Após clicar no botão Register, você será direcionado automaticamente para a página de download do software, que também pode ser acessada por meio desse [link](https://support.cambiumnetworks.com/files/linkplanner/). Faça download da versão mais recente para windows, clicando no botão de download destacado na figura abaixo. Neste tutorial será usada a versão 5.7.2.\n",
    "\n",
    "![img6](./figuras/img6.png)"
   ]
  },
  {
   "cell_type": "markdown",
   "id": "97c1f788-948c-433f-a9cd-32b96a29fe06",
   "metadata": {},
   "source": [
    "Faça a instalação do arquivo executável baixado. É possível que o windows reconheça como arquivo malicioso, mas clicando em “mais informações”, na tela mostrada na figura abaixo, irá abrir uma a opção “instalar assim mesmo”.\n",
    "\n",
    "![img7](./figuras/img7.png)"
   ]
  },
  {
   "cell_type": "markdown",
   "id": "557c8289-30c8-4529-8703-791e7447899f",
   "metadata": {},
   "source": [
    "Após a instalação, com o LINKPlanner aberto, clique na aba *Tools* e, em seguida, clique na opção *options*, conforme mostrado na figura abaixo.\n",
    "\n",
    "![img8](./figuras/img8.png)"
   ]
  },
  {
   "cell_type": "markdown",
   "id": "75e80bf3-2b9c-4455-a460-91d9ec60f870",
   "metadata": {},
   "source": [
    "Será aberta a janela da figura abaixo, onde devem ser inseridas suas informações pessoais, de forma obrigatória.\n",
    "\n",
    "![img9](./figuras/img9.png)"
   ]
  },
  {
   "cell_type": "markdown",
   "id": "f52bb8ae-dc05-4f01-94e5-072480d563bf",
   "metadata": {},
   "source": [
    "Ainda nessa tela, abra a aba *Path Profile* e clique em *\"Register for profiles*\".\n",
    "\n",
    "![img10](./figuras/img10.png)"
   ]
  },
  {
   "cell_type": "markdown",
   "id": "baee3633-561a-4d1e-a73c-959fef6dc19f",
   "metadata": {},
   "source": [
    "A tela da imagem abaixo irá se abrir no seu navegador, nela você deve inserir um e-mail no local demarcado e clicar em *Generate New Token*.\n",
    "\n",
    "![img11](./figuras/img11.png)"
   ]
  },
  {
   "cell_type": "markdown",
   "id": "ea9a9cb0-89c6-43ad-b424-b6e351c52293",
   "metadata": {},
   "source": [
    "Um token de acesso será enviado para o e-mail que você inseriu, você receberá um email semelhante ao da imagem abaixo.\n",
    "\n",
    "![img11](./figuras/img11.png)"
   ]
  },
  {
   "cell_type": "markdown",
   "id": "39037ad4-e322-4808-a1fe-2110f39e41ea",
   "metadata": {},
   "source": [
    "Insira o *token* recebido no local demarcado na imagem abaixo e aperte no botão *Test profile service*. Esse token de acesso é o que faz com que os terrenos sejam carregados no LINKPlanner, sem essa etapa não é possível realizar os projetos de enlace, pois o terreno entre os pontos não aparecerão no momento em que os enlaces forem estabelecidos.\n",
    "\n",
    "![img12](./figuras/img12.png)"
   ]
  },
  {
   "cell_type": "markdown",
   "id": "68131af0-fc2f-41a0-9f87-eeebf1328f05",
   "metadata": {},
   "source": [
    "Após essa etapa o LINKPlanner está pronto para uso."
   ]
  },
  {
   "cell_type": "code",
   "execution_count": null,
   "id": "72927eae-0615-4547-bd2e-7909d24143cb",
   "metadata": {},
   "outputs": [],
   "source": []
  }
 ],
 "metadata": {
  "kernelspec": {
   "display_name": "Python 3 (ipykernel)",
   "language": "python",
   "name": "python3"
  },
  "language_info": {
   "codemirror_mode": {
    "name": "ipython",
    "version": 3
   },
   "file_extension": ".py",
   "mimetype": "text/x-python",
   "name": "python",
   "nbconvert_exporter": "python",
   "pygments_lexer": "ipython3",
   "version": "3.10.12"
  }
 },
 "nbformat": 4,
 "nbformat_minor": 5
}
